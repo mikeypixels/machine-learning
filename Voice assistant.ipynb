{
  "nbformat": 4,
  "nbformat_minor": 0,
  "metadata": {
    "colab": {
      "name": "Untitled",
      "provenance": [],
      "include_colab_link": true
    },
    "kernelspec": {
      "name": "python2",
      "display_name": "Python 2"
    },
    "accelerator": "GPU"
  },
  "cells": [
    {
      "cell_type": "markdown",
      "metadata": {
        "id": "view-in-github",
        "colab_type": "text"
      },
      "source": [
        "<a href=\"https://colab.research.google.com/github/mikeypixels/machine-learning/blob/master/Voice%20assistant.ipynb\" target=\"_parent\"><img src=\"https://colab.research.google.com/assets/colab-badge.svg\" alt=\"Open In Colab\"/></a>"
      ]
    },
    {
      "cell_type": "code",
      "metadata": {
        "id": "ttqpucL8L_Fn",
        "colab_type": "code",
        "outputId": "f4cb8c7c-1b03-4471-c787-0ad9081dafc5",
        "colab": {
          "base_uri": "https://localhost:8080/",
          "height": 697
        }
      },
      "source": [
        "!pip install SpeechRecognition\n",
        "!pip install beautifulsoup4\n",
        "!pip install vlc\n",
        "!pip install youtube-dl\n",
        "!pip install pyowm\n",
        "!pip install wikipedia"
      ],
      "execution_count": 0,
      "outputs": [
        {
          "output_type": "stream",
          "text": [
            "Collecting SpeechRecognition\n",
            "\u001b[?25l  Downloading https://files.pythonhosted.org/packages/26/e1/7f5678cd94ec1234269d23756dbdaa4c8cfaed973412f88ae8adf7893a50/SpeechRecognition-3.8.1-py2.py3-none-any.whl (32.8MB)\n",
            "\u001b[K     |████████████████████████████████| 32.8MB 254kB/s \n",
            "\u001b[?25hInstalling collected packages: SpeechRecognition\n",
            "Successfully installed SpeechRecognition-3.8.1\n",
            "Requirement already satisfied: beautifulsoup4 in /usr/local/lib/python2.7/dist-packages (4.6.3)\n",
            "\u001b[31mERROR: Could not find a version that satisfies the requirement vlc (from versions: none)\u001b[0m\n",
            "\u001b[31mERROR: No matching distribution found for vlc\u001b[0m\n",
            "Collecting youtube-dl\n",
            "\u001b[?25l  Downloading https://files.pythonhosted.org/packages/35/f6/c36b2e8dd3fd528e4b10f4061ff97e086448ae248df243e34b9019bc6a50/youtube_dl-2019.11.5-py2.py3-none-any.whl (1.8MB)\n",
            "\u001b[K     |████████████████████████████████| 1.8MB 3.4MB/s \n",
            "\u001b[?25hInstalling collected packages: youtube-dl\n",
            "Successfully installed youtube-dl-2019.11.5\n",
            "Collecting pyowm\n",
            "\u001b[?25l  Downloading https://files.pythonhosted.org/packages/9d/c9/bdb56948fceda8c7a484c0f37e3ef7b0549b496d3996ea3cad754651e888/pyowm-2.9.0-py2-none-any.whl (3.7MB)\n",
            "\u001b[K     |████████████████████████████████| 3.7MB 3.4MB/s \n",
            "\u001b[?25hCollecting geojson<2.4,>=2.3.0\n",
            "  Downloading https://files.pythonhosted.org/packages/1c/59/5d8f40aa03591d68fa6bf99268810c66a0fbc82b9598e40822f3fd9149d2/geojson-2.3.0-py2.py3-none-any.whl\n",
            "Requirement already satisfied: requests<3,>=2.18.2 in /usr/local/lib/python2.7/dist-packages (from pyowm) (2.21.0)\n",
            "Requirement already satisfied: urllib3<1.25,>=1.21.1 in /usr/local/lib/python2.7/dist-packages (from requests<3,>=2.18.2->pyowm) (1.24.3)\n",
            "Requirement already satisfied: certifi>=2017.4.17 in /usr/local/lib/python2.7/dist-packages (from requests<3,>=2.18.2->pyowm) (2019.6.16)\n",
            "Requirement already satisfied: chardet<3.1.0,>=3.0.2 in /usr/local/lib/python2.7/dist-packages (from requests<3,>=2.18.2->pyowm) (3.0.4)\n",
            "Requirement already satisfied: idna<2.9,>=2.5 in /usr/local/lib/python2.7/dist-packages (from requests<3,>=2.18.2->pyowm) (2.8)\n",
            "Installing collected packages: geojson, pyowm\n",
            "Successfully installed geojson-2.3.0 pyowm-2.9.0\n",
            "Collecting wikipedia\n",
            "  Downloading https://files.pythonhosted.org/packages/67/35/25e68fbc99e672127cc6fbb14b8ec1ba3dfef035bf1e4c90f78f24a80b7d/wikipedia-1.4.0.tar.gz\n",
            "Requirement already satisfied: beautifulsoup4 in /usr/local/lib/python2.7/dist-packages (from wikipedia) (4.6.3)\n",
            "Requirement already satisfied: requests<3.0.0,>=2.0.0 in /usr/local/lib/python2.7/dist-packages (from wikipedia) (2.21.0)\n",
            "Requirement already satisfied: urllib3<1.25,>=1.21.1 in /usr/local/lib/python2.7/dist-packages (from requests<3.0.0,>=2.0.0->wikipedia) (1.24.3)\n",
            "Requirement already satisfied: certifi>=2017.4.17 in /usr/local/lib/python2.7/dist-packages (from requests<3.0.0,>=2.0.0->wikipedia) (2019.6.16)\n",
            "Requirement already satisfied: chardet<3.1.0,>=3.0.2 in /usr/local/lib/python2.7/dist-packages (from requests<3.0.0,>=2.0.0->wikipedia) (3.0.4)\n",
            "Requirement already satisfied: idna<2.9,>=2.5 in /usr/local/lib/python2.7/dist-packages (from requests<3.0.0,>=2.0.0->wikipedia) (2.8)\n",
            "Building wheels for collected packages: wikipedia\n",
            "  Building wheel for wikipedia (setup.py) ... \u001b[?25l\u001b[?25hdone\n",
            "  Created wheel for wikipedia: filename=wikipedia-1.4.0-cp27-none-any.whl size=11686 sha256=6751b5ba229fe4c40956013a63709fabc4a20c7ac8c80627f306f5e016255326\n",
            "  Stored in directory: /root/.cache/pip/wheels/87/2a/18/4e471fd96d12114d16fe4a446d00c3b38fb9efcb744bd31f4a\n",
            "Successfully built wikipedia\n",
            "Installing collected packages: wikipedia\n",
            "Successfully installed wikipedia-1.4.0\n"
          ],
          "name": "stdout"
        }
      ]
    },
    {
      "cell_type": "code",
      "metadata": {
        "id": "vMfgNx8apfog",
        "colab_type": "code",
        "colab": {}
      },
      "source": [
        "import speech_recognition as sr\n",
        "import os\n",
        "import sys\n",
        "import re\n",
        "import webbrowser\n",
        "import smtplib\n",
        "import requests\n",
        "import subprocess\n",
        "from pyowm import OWM\n",
        "import youtube_dl\n",
        "import urllib\n",
        "import urllib2\n",
        "import json\n",
        "from bs4 import BeautifulSoup as soup\n",
        "from urllib2 import urlopen\n",
        "import wikipedia\n",
        "import random\n",
        "import pyaudio\n",
        "from time import strftime"
      ],
      "execution_count": 0,
      "outputs": []
    },
    {
      "cell_type": "code",
      "metadata": {
        "id": "kMfjXMdyt2g-",
        "colab_type": "code",
        "outputId": "be8127e3-d464-4454-ecfb-6c168a1697db",
        "colab": {
          "base_uri": "https://localhost:8080/",
          "height": 544
        }
      },
      "source": [
        "!apt install libasound2-dev portaudio19-dev libportaudio2 libportaudiocpp0 ffmpeg"
      ],
      "execution_count": 0,
      "outputs": [
        {
          "output_type": "stream",
          "text": [
            "Reading package lists... Done\n",
            "Building dependency tree       \n",
            "Reading state information... Done\n",
            "libasound2-dev is already the newest version (1.1.3-5ubuntu0.2).\n",
            "ffmpeg is already the newest version (7:3.4.6-0ubuntu0.18.04.1).\n",
            "Suggested packages:\n",
            "  portaudio19-doc\n",
            "The following NEW packages will be installed:\n",
            "  libportaudio2 libportaudiocpp0 portaudio19-dev\n",
            "0 upgraded, 3 newly installed, 0 to remove and 35 not upgraded.\n",
            "Need to get 184 kB of archives.\n",
            "After this operation, 891 kB of additional disk space will be used.\n",
            "Get:1 http://archive.ubuntu.com/ubuntu bionic/universe amd64 libportaudio2 amd64 19.6.0-1 [64.6 kB]\n",
            "Get:2 http://archive.ubuntu.com/ubuntu bionic/universe amd64 libportaudiocpp0 amd64 19.6.0-1 [15.1 kB]\n",
            "Get:3 http://archive.ubuntu.com/ubuntu bionic/universe amd64 portaudio19-dev amd64 19.6.0-1 [104 kB]\n",
            "Fetched 184 kB in 1s (156 kB/s)\n",
            "Selecting previously unselected package libportaudio2:amd64.\n",
            "(Reading database ... 132684 files and directories currently installed.)\n",
            "Preparing to unpack .../libportaudio2_19.6.0-1_amd64.deb ...\n",
            "Unpacking libportaudio2:amd64 (19.6.0-1) ...\n",
            "Selecting previously unselected package libportaudiocpp0:amd64.\n",
            "Preparing to unpack .../libportaudiocpp0_19.6.0-1_amd64.deb ...\n",
            "Unpacking libportaudiocpp0:amd64 (19.6.0-1) ...\n",
            "Selecting previously unselected package portaudio19-dev:amd64.\n",
            "Preparing to unpack .../portaudio19-dev_19.6.0-1_amd64.deb ...\n",
            "Unpacking portaudio19-dev:amd64 (19.6.0-1) ...\n",
            "Setting up libportaudio2:amd64 (19.6.0-1) ...\n",
            "Processing triggers for libc-bin (2.27-3ubuntu1) ...\n",
            "Setting up libportaudiocpp0:amd64 (19.6.0-1) ...\n",
            "Setting up portaudio19-dev:amd64 (19.6.0-1) ...\n",
            "Processing triggers for libc-bin (2.27-3ubuntu1) ...\n"
          ],
          "name": "stdout"
        }
      ]
    },
    {
      "cell_type": "code",
      "metadata": {
        "id": "uzNjHaZtvkPy",
        "colab_type": "code",
        "outputId": "7ebd790a-66e7-49a6-fdf5-3671e4357ef4",
        "colab": {
          "base_uri": "https://localhost:8080/",
          "height": 170
        }
      },
      "source": [
        "!pip install pyaudio"
      ],
      "execution_count": 0,
      "outputs": [
        {
          "output_type": "stream",
          "text": [
            "Collecting pyaudio\n",
            "  Using cached https://files.pythonhosted.org/packages/ab/42/b4f04721c5c5bfc196ce156b3c768998ef8c0ae3654ed29ea5020c749a6b/PyAudio-0.2.11.tar.gz\n",
            "Building wheels for collected packages: pyaudio\n",
            "  Building wheel for pyaudio (setup.py) ... \u001b[?25l\u001b[?25hdone\n",
            "  Created wheel for pyaudio: filename=PyAudio-0.2.11-cp27-cp27mu-linux_x86_64.whl size=49898 sha256=c9b3cb7f1b7bde769f6fda591bb0be48ee1cb12e327a669d36ba755a838d835d\n",
            "  Stored in directory: /root/.cache/pip/wheels/f4/a8/a4/292214166c2917890f85b2f72a8e5f13e1ffa527c4200dcede\n",
            "Successfully built pyaudio\n",
            "Installing collected packages: pyaudio\n",
            "Successfully installed pyaudio-0.2.11\n"
          ],
          "name": "stdout"
        }
      ]
    },
    {
      "cell_type": "code",
      "metadata": {
        "id": "S2wwgUNAw6K2",
        "colab_type": "code",
        "outputId": "60c7af8b-2a13-4faf-9570-bf472bd3cafb",
        "colab": {
          "base_uri": "https://localhost:8080/",
          "height": 51
        }
      },
      "source": [
        "!pip install libportaudio-dev"
      ],
      "execution_count": 0,
      "outputs": [
        {
          "output_type": "stream",
          "text": [
            "\u001b[31mERROR: Could not find a version that satisfies the requirement libportaudio-dev (from versions: none)\u001b[0m\n",
            "\u001b[31mERROR: No matching distribution found for libportaudio-dev\u001b[0m\n"
          ],
          "name": "stdout"
        }
      ]
    },
    {
      "cell_type": "code",
      "metadata": {
        "id": "yfrq5jXNx5Qi",
        "colab_type": "code",
        "colab": {}
      },
      "source": [
        "import pyaudio"
      ],
      "execution_count": 0,
      "outputs": []
    },
    {
      "cell_type": "code",
      "metadata": {
        "id": "pZkrp_vSpuOE",
        "colab_type": "code",
        "outputId": "3ea24869-b69c-47aa-8148-30eb229d4dec",
        "colab": {
          "base_uri": "https://localhost:8080/",
          "height": 340
        }
      },
      "source": [
        "def sofiaResponse(audio):\n",
        "    \"speaks audio passed as argument\"\n",
        "    print(audio)\n",
        "    for line in audio.splitlines():\n",
        "        os.system(\"say \" + audio)\n",
        "def myCommand():\n",
        "    \"listens for commands\"\n",
        "    r = sr.Recognizer()\n",
        "    with sr.Microphone() as source:\n",
        "        print('Say something...')\n",
        "        r.pause_threshold = 1\n",
        "        r.adjust_for_ambient_noise(source, duration=1)\n",
        "        audio = r.listen(source)\n",
        "    try:\n",
        "        command = r.recognize_google(audio).lower()\n",
        "        print('You said: ' + command + '\\n')\n",
        "    #loop back to continue to listen for commands if unrecognizable speech is received\n",
        "    except sr.UnknownValueError:\n",
        "        print('....')\n",
        "        command = myCommand();\n",
        "    return command\n",
        "def assistant(command):\n",
        "    \"if statements for executing commands\"\n",
        "#open subreddit Reddit\n",
        "    if 'open reddit' in command:\n",
        "        reg_ex = re.search('open reddit (.*)', command)\n",
        "        url = 'https://www.reddit.com/'\n",
        "        if reg_ex:\n",
        "            subreddit = reg_ex.group(1)\n",
        "            url = url + 'r/' + subreddit\n",
        "        webbrowser.open(url)\n",
        "        sofiaResponse('The Reddit content has been opened for you Sir.')\n",
        "    elif 'shutdown' in command:\n",
        "        sofiaResponse('Bye bye Sir. Have a nice day')\n",
        "        sys.exit()\n",
        "#open website\n",
        "    elif 'open' in command:\n",
        "        reg_ex = re.search('open (.+)', command)\n",
        "        if reg_ex:\n",
        "            domain = reg_ex.group(1)\n",
        "            print(domain)\n",
        "            url = 'https://www.' + domain\n",
        "            webbrowser.open(url)\n",
        "            sofiaResponse('The website you have requested has been opened for you Sir.')\n",
        "        else:\n",
        "            pass\n",
        "#greetings\n",
        "    elif 'hello' in command:\n",
        "        day_time = int(strftime('%H'))\n",
        "        if day_time < 12:\n",
        "            sofiaResponse('Hello Sir. Good morning')\n",
        "        elif 12 <= day_time < 18:\n",
        "            sofiaResponse('Hello Sir. Good afternoon')\n",
        "        else:\n",
        "            sofiaResponse('Hello Sir. Good evening')\n",
        "    elif 'help me' in command:\n",
        "        sofiaResponse(\"\"\"\n",
        "        You can use these commands and I'll help you out:\n",
        "1. Open reddit subreddit : Opens the subreddit in default browser.\n",
        "        2. Open xyz.com : replace xyz with any website name\n",
        "        3. Send email/email : Follow up questions such as recipient name, content will be asked in order.\n",
        "        4. Current weather in {cityname} : Tells you the current condition and temperture\n",
        "        5. Hello\n",
        "        6. play me a video : Plays song in your VLC media player\n",
        "        7. change wallpaper : Change desktop wallpaper\n",
        "        8. news for today : reads top news of today\n",
        "        9. time : Current system time\n",
        "        10. top stories from google news (RSS feeds)\n",
        "        11. tell me about xyz : tells you about xyz\n",
        "        \"\"\")\n",
        "#joke\n",
        "    elif 'joke' in command:\n",
        "        res = requests.get(\n",
        "                'https://icanhazdadjoke.com/',\n",
        "                headers={\"Accept\":\"application/json\"})\n",
        "        if res.status_code == requests.codes.ok:\n",
        "            sofiaResponse(str(res.json()['joke']))\n",
        "        else:\n",
        "            sofiaResponse('oops!I ran out of jokes')\n",
        "#top stories from google news\n",
        "    elif 'news for today' in command:\n",
        "        try:\n",
        "            news_url=\"https://news.google.com/news/rss\"\n",
        "            Client=urlopen(news_url)\n",
        "            xml_page=Client.read()\n",
        "            Client.close()\n",
        "            soup_page=soup(xml_page,\"xml\")\n",
        "            news_list=soup_page.findAll(\"item\")\n",
        "            for news in news_list[:15]:\n",
        "                sofiaResponse(news.title.text.encode('utf-8'))\n",
        "        except Exception as e:\n",
        "                print(e)\n",
        "#current weather\n",
        "    elif 'current weather' in command:\n",
        "        reg_ex = re.search('current weather in (.*)', command)\n",
        "        if reg_ex:\n",
        "            city = reg_ex.group(1)\n",
        "            owm = OWM(API_key='ab0d5e80e8dafb2cb81fa9e82431c1fa')\n",
        "            obs = owm.weather_at_place(city)\n",
        "            w = obs.get_weather()\n",
        "            k = w.get_status()\n",
        "            x = w.get_temperature(unit='celsius')\n",
        "            sofiaResponse('Current weather in %s is %s. The maximum temperature is %0.2f and the minimum temperature is %0.2f degree celcius' % (city, k, x['temp_max'], x['temp_min']))\n",
        "#time\n",
        "    elif 'time' in command:\n",
        "        import datetime\n",
        "        now = datetime.datetime.now()\n",
        "        sofiaResponse('Current time is %d hours %d minutes' % (now.hour, now.minute))\n",
        "    elif 'email' in command:\n",
        "        sofiaResponse('Who is the recipient?')\n",
        "        recipient = myCommand()\n",
        "        if 'rajat' in recipient:\n",
        "            sofiaResponse('What should I say to him?')\n",
        "            content = myCommand()\n",
        "            mail = smtplib.SMTP('smtp.gmail.com', 587)\n",
        "            mail.ehlo()\n",
        "            mail.starttls()\n",
        "            mail.login('your_email_address', 'your_password')\n",
        "            mail.sendmail('sender_email', 'receiver_email', content)\n",
        "            mail.close()\n",
        "            sofiaResponse('Email has been sent successfuly. You can check your inbox.')\n",
        "        else:\n",
        "            sofiaResponse('I don\\'t know what you mean!')\n",
        "#launch any application\n",
        "    elif 'launch' in command:\n",
        "        reg_ex = re.search('launch (.*)', command)\n",
        "        if reg_ex:\n",
        "            appname = reg_ex.group(1)\n",
        "            appname1 = appname+\".app\"\n",
        "            subprocess.Popen([\"open\", \"-n\", \"/Applications/\" + appname1], stdout=subprocess.PIPE)\n",
        "        sofiaResponse('I have launched the desired application')\n",
        "#play youtube song\n",
        "    elif 'play me a song' in command:\n",
        "        path = '/Users/nageshsinghchauhan/Documents/videos/'\n",
        "        folder = path\n",
        "        for the_file in os.listdir(folder):\n",
        "            file_path = os.path.join(folder, the_file)\n",
        "            try:\n",
        "                if os.path.isfile(file_path):\n",
        "                    os.unlink(file_path)\n",
        "            except Exception as e:\n",
        "                print(e)\n",
        "        sofiaResponse('What song shall I play Sir?')\n",
        "        mysong = myCommand()\n",
        "        if mysong:\n",
        "            flag = 0\n",
        "            url = \"https://www.youtube.com/results?search_query=\" + mysong.replace(' ', '+')\n",
        "            response = urllib2.urlopen(url)\n",
        "            html = response.read()\n",
        "            soup1 = soup(html,\"lxml\")\n",
        "            url_list = []\n",
        "            for vid in soup1.findAll(attrs={'class':'yt-uix-tile-link'}):\n",
        "                if ('https://www.youtube.com' + vid['href']).startswith(\"https://www.youtube.com/watch?v=\"):\n",
        "                    flag = 1\n",
        "                    final_url = 'https://www.youtube.com' + vid['href']\n",
        "                    url_list.append(final_url)\n",
        "        url = url_list[0]\n",
        "        ydl_opts = {}\n",
        "        os.chdir(path)\n",
        "        with youtube_dl.YoutubeDL(ydl_opts) as ydl:\n",
        "            ydl.download([url])\n",
        "        vlc.play(path)\n",
        "        if flag == 0:\n",
        "                        sofiaResponse('I have not found anything in Youtube ')\n",
        "#change wallpaper\n",
        "    elif 'change wallpaper' in command:\n",
        "        folder = '/Users/nageshsinghchauhan/Documents/wallpaper/'\n",
        "        for the_file in os.listdir(folder):\n",
        "            file_path = os.path.join(folder, the_file)\n",
        "            try:\n",
        "                if os.path.isfile(file_path):\n",
        "                    os.unlink(file_path)\n",
        "            except Exception as e:\n",
        "                print(e)\n",
        "        api_key = 'fd66364c0ad9e0f8aabe54ec3cfbed0a947f3f4014ce3b841bf2ff6e20948795'\n",
        "        url = 'https://api.unsplash.com/photos/random?client_id=' + api_key #pic from unspalsh.com\n",
        "        f = urllib2.urlopen(url)\n",
        "        json_string = f.read()\n",
        "        f.close()\n",
        "        parsed_json = json.loads(json_string)\n",
        "        photo = parsed_json['urls']['full']\n",
        "        urllib.urlretrieve(photo, \"/Users/nageshsinghchauhan/Documents/wallpaper/a\") # Location where we download the image to.\n",
        "        subprocess.call([\"killall Dock\"], shell=True)\n",
        "        sofiaResponse('wallpaper changed successfully')\n",
        "#askme anything\n",
        "    elif 'tell me about' in command:\n",
        "        reg_ex = re.search('tell me about (.*)', command)\n",
        "        try:\n",
        "            if reg_ex:\n",
        "                topic = reg_ex.group(1)\n",
        "                ny = wikipedia.page(topic)\n",
        "                sofiaResponse(ny.content[:500].encode('utf-8'))\n",
        "        except Exception as e:\n",
        "                print(e)\n",
        "                sofiaResponse(e)\n",
        "        sofiaResponse('Hi User, I am Sofia and I am your personal voice assistant, Please give a command or say \"help me\" and I will tell you what all I can do for you.')\n",
        "#loop to continue executing multiple commands\n",
        "while True:\n",
        "    assistant(myCommand())"
      ],
      "execution_count": 0,
      "outputs": [
        {
          "output_type": "error",
          "ename": "IOError",
          "evalue": "ignored",
          "traceback": [
            "\u001b[0;31m\u001b[0m",
            "\u001b[0;31mIOError\u001b[0mTraceback (most recent call last)",
            "\u001b[0;32m<ipython-input-29-4c5a2e8e4cbd>\u001b[0m in \u001b[0;36m<module>\u001b[0;34m()\u001b[0m\n\u001b[1;32m    197\u001b[0m \u001b[0;31m#loop to continue executing multiple commands\u001b[0m\u001b[0;34m\u001b[0m\u001b[0;34m\u001b[0m\u001b[0;34m\u001b[0m\u001b[0m\n\u001b[1;32m    198\u001b[0m \u001b[0;32mwhile\u001b[0m \u001b[0mTrue\u001b[0m\u001b[0;34m:\u001b[0m\u001b[0;34m\u001b[0m\u001b[0;34m\u001b[0m\u001b[0m\n\u001b[0;32m--> 199\u001b[0;31m     \u001b[0massistant\u001b[0m\u001b[0;34m(\u001b[0m\u001b[0mmyCommand\u001b[0m\u001b[0;34m(\u001b[0m\u001b[0;34m)\u001b[0m\u001b[0;34m)\u001b[0m\u001b[0;34m\u001b[0m\u001b[0;34m\u001b[0m\u001b[0m\n\u001b[0m",
            "\u001b[0;32m<ipython-input-29-4c5a2e8e4cbd>\u001b[0m in \u001b[0;36mmyCommand\u001b[0;34m()\u001b[0m\n\u001b[1;32m      7\u001b[0m     \u001b[0;34m\"listens for commands\"\u001b[0m\u001b[0;34m\u001b[0m\u001b[0;34m\u001b[0m\u001b[0m\n\u001b[1;32m      8\u001b[0m     \u001b[0mr\u001b[0m \u001b[0;34m=\u001b[0m \u001b[0msr\u001b[0m\u001b[0;34m.\u001b[0m\u001b[0mRecognizer\u001b[0m\u001b[0;34m(\u001b[0m\u001b[0;34m)\u001b[0m\u001b[0;34m\u001b[0m\u001b[0;34m\u001b[0m\u001b[0m\n\u001b[0;32m----> 9\u001b[0;31m     \u001b[0;32mwith\u001b[0m \u001b[0msr\u001b[0m\u001b[0;34m.\u001b[0m\u001b[0mMicrophone\u001b[0m\u001b[0;34m(\u001b[0m\u001b[0;34m)\u001b[0m \u001b[0;32mas\u001b[0m \u001b[0msource\u001b[0m\u001b[0;34m:\u001b[0m\u001b[0;34m\u001b[0m\u001b[0;34m\u001b[0m\u001b[0m\n\u001b[0m\u001b[1;32m     10\u001b[0m         \u001b[0;32mprint\u001b[0m\u001b[0;34m(\u001b[0m\u001b[0;34m'Say something...'\u001b[0m\u001b[0;34m)\u001b[0m\u001b[0;34m\u001b[0m\u001b[0;34m\u001b[0m\u001b[0m\n\u001b[1;32m     11\u001b[0m         \u001b[0mr\u001b[0m\u001b[0;34m.\u001b[0m\u001b[0mpause_threshold\u001b[0m \u001b[0;34m=\u001b[0m \u001b[0;36m1\u001b[0m\u001b[0;34m\u001b[0m\u001b[0;34m\u001b[0m\u001b[0m\n",
            "\u001b[0;32m/usr/local/lib/python2.7/dist-packages/speech_recognition/__init__.pyc\u001b[0m in \u001b[0;36m__init__\u001b[0;34m(self, device_index, sample_rate, chunk_size)\u001b[0m\n\u001b[1;32m     84\u001b[0m                 \u001b[0;32massert\u001b[0m \u001b[0;36m0\u001b[0m \u001b[0;34m<=\u001b[0m \u001b[0mdevice_index\u001b[0m \u001b[0;34m<\u001b[0m \u001b[0mcount\u001b[0m\u001b[0;34m,\u001b[0m \u001b[0;34m\"Device index out of range ({} devices available; device index should be between 0 and {} inclusive)\"\u001b[0m\u001b[0;34m.\u001b[0m\u001b[0mformat\u001b[0m\u001b[0;34m(\u001b[0m\u001b[0mcount\u001b[0m\u001b[0;34m,\u001b[0m \u001b[0mcount\u001b[0m \u001b[0;34m-\u001b[0m \u001b[0;36m1\u001b[0m\u001b[0;34m)\u001b[0m\u001b[0;34m\u001b[0m\u001b[0;34m\u001b[0m\u001b[0m\n\u001b[1;32m     85\u001b[0m             \u001b[0;32mif\u001b[0m \u001b[0msample_rate\u001b[0m \u001b[0;32mis\u001b[0m \u001b[0mNone\u001b[0m\u001b[0;34m:\u001b[0m  \u001b[0;31m# automatically set the sample rate to the hardware's default sample rate if not specified\u001b[0m\u001b[0;34m\u001b[0m\u001b[0;34m\u001b[0m\u001b[0m\n\u001b[0;32m---> 86\u001b[0;31m                 \u001b[0mdevice_info\u001b[0m \u001b[0;34m=\u001b[0m \u001b[0maudio\u001b[0m\u001b[0;34m.\u001b[0m\u001b[0mget_device_info_by_index\u001b[0m\u001b[0;34m(\u001b[0m\u001b[0mdevice_index\u001b[0m\u001b[0;34m)\u001b[0m \u001b[0;32mif\u001b[0m \u001b[0mdevice_index\u001b[0m \u001b[0;32mis\u001b[0m \u001b[0;32mnot\u001b[0m \u001b[0mNone\u001b[0m \u001b[0;32melse\u001b[0m \u001b[0maudio\u001b[0m\u001b[0;34m.\u001b[0m\u001b[0mget_default_input_device_info\u001b[0m\u001b[0;34m(\u001b[0m\u001b[0;34m)\u001b[0m\u001b[0;34m\u001b[0m\u001b[0;34m\u001b[0m\u001b[0m\n\u001b[0m\u001b[1;32m     87\u001b[0m                 \u001b[0;32massert\u001b[0m \u001b[0misinstance\u001b[0m\u001b[0;34m(\u001b[0m\u001b[0mdevice_info\u001b[0m\u001b[0;34m.\u001b[0m\u001b[0mget\u001b[0m\u001b[0;34m(\u001b[0m\u001b[0;34m\"defaultSampleRate\"\u001b[0m\u001b[0;34m)\u001b[0m\u001b[0;34m,\u001b[0m \u001b[0;34m(\u001b[0m\u001b[0mfloat\u001b[0m\u001b[0;34m,\u001b[0m \u001b[0mint\u001b[0m\u001b[0;34m)\u001b[0m\u001b[0;34m)\u001b[0m \u001b[0;32mand\u001b[0m \u001b[0mdevice_info\u001b[0m\u001b[0;34m[\u001b[0m\u001b[0;34m\"defaultSampleRate\"\u001b[0m\u001b[0;34m]\u001b[0m \u001b[0;34m>\u001b[0m \u001b[0;36m0\u001b[0m\u001b[0;34m,\u001b[0m \u001b[0;34m\"Invalid device info returned from PyAudio: {}\"\u001b[0m\u001b[0;34m.\u001b[0m\u001b[0mformat\u001b[0m\u001b[0;34m(\u001b[0m\u001b[0mdevice_info\u001b[0m\u001b[0;34m)\u001b[0m\u001b[0;34m\u001b[0m\u001b[0;34m\u001b[0m\u001b[0m\n\u001b[1;32m     88\u001b[0m                 \u001b[0msample_rate\u001b[0m \u001b[0;34m=\u001b[0m \u001b[0mint\u001b[0m\u001b[0;34m(\u001b[0m\u001b[0mdevice_info\u001b[0m\u001b[0;34m[\u001b[0m\u001b[0;34m\"defaultSampleRate\"\u001b[0m\u001b[0;34m]\u001b[0m\u001b[0;34m)\u001b[0m\u001b[0;34m\u001b[0m\u001b[0;34m\u001b[0m\u001b[0m\n",
            "\u001b[0;32m/usr/local/lib/python2.7/dist-packages/pyaudio.pyc\u001b[0m in \u001b[0;36mget_default_input_device_info\u001b[0;34m(self)\u001b[0m\n\u001b[1;32m    947\u001b[0m         \"\"\"\n\u001b[1;32m    948\u001b[0m \u001b[0;34m\u001b[0m\u001b[0m\n\u001b[0;32m--> 949\u001b[0;31m         \u001b[0mdevice_index\u001b[0m \u001b[0;34m=\u001b[0m \u001b[0mpa\u001b[0m\u001b[0;34m.\u001b[0m\u001b[0mget_default_input_device\u001b[0m\u001b[0;34m(\u001b[0m\u001b[0;34m)\u001b[0m\u001b[0;34m\u001b[0m\u001b[0;34m\u001b[0m\u001b[0m\n\u001b[0m\u001b[1;32m    950\u001b[0m         \u001b[0;32mreturn\u001b[0m \u001b[0mself\u001b[0m\u001b[0;34m.\u001b[0m\u001b[0mget_device_info_by_index\u001b[0m\u001b[0;34m(\u001b[0m\u001b[0mdevice_index\u001b[0m\u001b[0;34m)\u001b[0m\u001b[0;34m\u001b[0m\u001b[0;34m\u001b[0m\u001b[0m\n\u001b[1;32m    951\u001b[0m \u001b[0;34m\u001b[0m\u001b[0m\n",
            "\u001b[0;31mIOError\u001b[0m: No Default Input Device Available"
          ]
        }
      ]
    }
  ]
}